{
 "cells": [
  {
   "cell_type": "code",
   "execution_count": 10,
   "id": "4755ccc4-25cf-4769-adb6-6442ff78acdb",
   "metadata": {},
   "outputs": [],
   "source": [
    "import json\n",
    "import pandas as pd\n",
    "import random\n",
    "import string\n",
    "import glob\n",
    "import os\n",
    "import re"
   ]
  },
  {
   "cell_type": "code",
   "execution_count": null,
   "id": "a2210d92-996a-49fd-829f-e17570d98479",
   "metadata": {},
   "outputs": [],
   "source": [
    "txt_dir = \"raw_txt\"\n",
    "output_csv_dir = \"parsed_csv\"\n",
    "random_str = ''.join(random.choices(string.ascii_lowercase + string.digits, k=6))\n",
    "output_csv_file= f'combined_dataset_{random_str}.csv'\n",
    "output_csv = output_csv_dir+\"/\"+output_csv_file\n",
    "\n",
    "# Find all TXT files\n",
    "txt_files = glob.glob(os.path.join(txt_dir, '*.txt'))\n",
    "\n",
    "# Initialize an empty list to store data\n",
    "data_list = []\n",
    "\n",
    "# Function to extract individual JSON objects robustly\n",
    "def extract_json_objects(txt_content):\n",
    "    txt_content = re.sub(r'.*?```json', '', txt_content, flags=re.DOTALL)\n",
    "    json_objects = re.findall(r'\\{.*?\\}(?=,?\\s*[\\{\\]])', txt_content, re.DOTALL)\n",
    "    objects = []\n",
    "    for obj_str in json_objects:\n",
    "        try:\n",
    "            obj = json.loads(obj_str)\n",
    "            objects.append(obj)\n",
    "        except json.JSONDecodeError as e:\n",
    "            print(f\"Skipped malformed JSON object: {e}\")\n",
    "    return objects\n",
    "\n",
    "# Load each TXT file and append data\n",
    "for file_path in txt_files:\n",
    "    with open(file_path, 'r', encoding='utf-8') as file:\n",
    "        txt_content = file.read()\n",
    "        extracted_objects = extract_json_objects(txt_content)\n",
    "        data_list.extend(extracted_objects)\n",
    "\n",
    "# Create DataFrame (automatically handles dynamic columns)\n",
    "df = pd.DataFrame(data_list)\n",
    "\n",
    "# Fill missing values with NaN\n",
    "combined_df = df.where(pd.notnull(df), None)\n",
    "\n",
    "# Save combined DataFrame to CSV\n",
    "combined_df.to_csv(output_csv, index=False)\n",
    "\n",
    "print(f\"Combined CSV saved to: {output_csv}\")"
   ]
  },
  {
   "cell_type": "code",
   "execution_count": null,
   "id": "565f19c0-12ea-471b-a75c-81569775d3d7",
   "metadata": {},
   "outputs": [],
   "source": []
  }
 ],
 "metadata": {
  "kernelspec": {
   "display_name": "Python 3 (ipykernel)",
   "language": "python",
   "name": "python3"
  },
  "language_info": {
   "codemirror_mode": {
    "name": "ipython",
    "version": 3
   },
   "file_extension": ".py",
   "mimetype": "text/x-python",
   "name": "python",
   "nbconvert_exporter": "python",
   "pygments_lexer": "ipython3",
   "version": "3.10.16"
  }
 },
 "nbformat": 4,
 "nbformat_minor": 5
}
